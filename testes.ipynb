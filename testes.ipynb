{
 "cells": [
  {
   "cell_type": "code",
   "execution_count": null,
   "id": "ab22817d",
   "metadata": {},
   "outputs": [
    {
     "name": "stdout",
     "output_type": "stream",
     "text": [
      "5 Contributors\n",
      "Flores Lyrics\n",
      "Lançada no álbum Õ Blésq Blom de 1989, a canção, que aborda o tema do suicídio, se tornou popular e o seu vídeo ganho o prêmio de melhor clipe durante o MTV Video Music Brasil do ano seguinte.\n",
      "\n",
      "A canção… \n",
      "Read More\n",
      " \n",
      "[Letra de \"Flores\" com Titãs]\n",
      "[Verso]\n",
      "Olhei até ficar cansado de ver os meus olhos no espelho\n",
      "Chorei por ter despedaçado as flores que estão no canteiro\n",
      "Os punhos e os pulsos cortados e o resto do meu corpo inteiro\n",
      "Há flores cobrindo o telhado e embaixo do meu travesseiro\n",
      "Há flores por todos os lados, há flores em tudo o que eu vejo\n",
      "[Refrão]\n",
      "A dor vai curar essas lástimas\n",
      "O soro tem gosto de lágrimas\n",
      "As flores tem cheiro de morte\n",
      "A dor vai fechar esses cortes\n",
      "Flores, flores\n",
      "As flores de plástico não morrem\n",
      "[Verso]\n",
      "Olhei até ficar cansado de ver os meus olhos no espelho\n",
      "Chorei por ter despedaçado as flores que estão no canteiro\n",
      "Os punhos e os pulsos cortados e o resto do meu corpo inteiro\n",
      "Há flores cobrindo o telhado e embaixo do meu travesseiro\n",
      "Há flores por todos os lados, há flores em tudo o que eu vejo\n",
      "[Refrão]\n",
      "A dor vai curar essas lástimas\n",
      "O soro tem gosto de lágrimas\n",
      "As flores tem cheiro de morte\n",
      "A dor vai fechar esses cortes\n",
      "Flores, flores\n",
      "As flores de plástico não morrem\n",
      "Flores, flores\n",
      "As flores de plástico não morrem[Solo de saxofone]\n"
     ]
    }
   ],
   "source": [
    "import requests\n",
    "from bs4 import BeautifulSoup\n",
    "\n",
    "access_token = \"dPuGlgSV5UG_u8rZdMAFfBZq0V9q5CSYe6VBprED6sWTNPugVZx34SsPceJPINpO\"\n",
    "query = \"Titãs Flores\"\n",
    "endpoint = f\"https://api.genius.com/search?q={query}\"\n",
    "headers = {\"Authorization\": f\"Bearer {access_token}\"}\n",
    "\n",
    "# 1. Busca a música na API\n",
    "response = requests.get(endpoint, headers=headers)\n",
    "hits = response.json()[\"response\"][\"hits\"]\n",
    "\n",
    "# 2. Pegar a URL da primeira música encontrada\n",
    "if hits:\n",
    "    song_url = hits[0][\"result\"][\"url\"]\n",
    "    # 3. Faz scraping da letra\n",
    "    page = requests.get(song_url)\n",
    "    soup = BeautifulSoup(page.text, \"html.parser\")\n",
    "    lyrics = \"\"\n",
    "    for div in soup.find_all(\"div\", attrs={\"data-lyrics-container\": \"true\"}):\n",
    "        lyrics += div.get_text(separator=\"\\n\")\n",
    "    print(lyrics.strip())\n",
    "else:\n",
    "    print(\"Música não encontrada.\")"
   ]
  }
 ],
 "metadata": {
  "kernelspec": {
   "display_name": ".venv",
   "language": "python",
   "name": "python3"
  },
  "language_info": {
   "codemirror_mode": {
    "name": "ipython",
    "version": 3
   },
   "file_extension": ".py",
   "mimetype": "text/x-python",
   "name": "python",
   "nbconvert_exporter": "python",
   "pygments_lexer": "ipython3",
   "version": "3.13.5"
  }
 },
 "nbformat": 4,
 "nbformat_minor": 5
}
